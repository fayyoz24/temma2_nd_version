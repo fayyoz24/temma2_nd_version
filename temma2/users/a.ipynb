{
 "cells": [
  {
   "cell_type": "code",
   "execution_count": 5,
   "id": "e13df664",
   "metadata": {},
   "outputs": [
    {
     "name": "stdout",
     "output_type": "stream",
     "text": [
      "11\n",
      "c\n"
     ]
    }
   ],
   "source": [
    "a = \"sadfewcdccccccccsccwad\"\n",
    "\n",
    "dict_num_chars = {}\n",
    "for char in a:\n",
    "    if char in dict_num_chars:\n",
    "        dict_num_chars[char] += 1\n",
    "    else:\n",
    "        dict_num_chars[char] = 1\n",
    "k = 0\n",
    "result = ''\n",
    "for char, count in dict_num_chars.items():\n",
    "    if count > k:\n",
    "        k = count\n",
    "        result = char\n",
    "print(k)\n",
    "print(result)\n"
   ]
  },
  {
   "cell_type": "code",
   "execution_count": 8,
   "id": "5df0c057",
   "metadata": {},
   "outputs": [
    {
     "data": {
      "text/plain": [
       "5"
      ]
     },
     "execution_count": 8,
     "metadata": {},
     "output_type": "execute_result"
    }
   ],
   "source": [
    "pairs = [('a', 2), ('b', 5), ('c', 3)]\n",
    "a, b = max(pairs, key=lambda x: x[1])\n",
    "b"
   ]
  },
  {
   "cell_type": "code",
   "execution_count": null,
   "id": "c696fbdf",
   "metadata": {},
   "outputs": [
    {
     "name": "stdout",
     "output_type": "stream",
     "text": [
      "[(-1, -1, 2), (-1, 0, 1), (-1, 2, -1), (-1, -1, 2), (0, 0, 0), (0, 1, -1), (0, -1, 1), (1, -1, 0), (2, 2, -4), (2, -1, -1), (2, -1, -1), (2, -4, 2), (-1, -1, 2), (-1, 0, 1), (-1, 2, -1), (-1, -1, 2), (-4, 2, 2)]\n"
     ]
    }
   ],
   "source": [
    "arr = [-1, 0, 1, 2, -1, -4].sort()\n",
    "arrr = []\n",
    "i = 0\n",
    "for i in arr:\n",
    "    for j in arr[i + 1:]:\n",
    "        for k in arr[j + 1:]:\n",
    "            if i + j + k == 0:\n",
    "                arrr.append((i, j, k))\n",
    "print(arrr)\n"
   ]
  }
 ],
 "metadata": {
  "kernelspec": {
   "display_name": ".venv",
   "language": "python",
   "name": "python3"
  },
  "language_info": {
   "codemirror_mode": {
    "name": "ipython",
    "version": 3
   },
   "file_extension": ".py",
   "mimetype": "text/x-python",
   "name": "python",
   "nbconvert_exporter": "python",
   "pygments_lexer": "ipython3",
   "version": "3.10.10"
  }
 },
 "nbformat": 4,
 "nbformat_minor": 5
}
